{
  "nbformat": 4,
  "nbformat_minor": 0,
  "metadata": {
    "colab": {
      "name": "NMT/Attention.ipynb",
      "provenance": [],
      "collapsed_sections": [],
      "authorship_tag": "ABX9TyNXUlXjh+d/5xWPUyNDgNcV",
      "include_colab_link": true
    },
    "kernelspec": {
      "name": "python3",
      "display_name": "Python 3"
    },
    "accelerator": "GPU"
  },
  "cells": [
    {
      "cell_type": "markdown",
      "metadata": {
        "id": "view-in-github",
        "colab_type": "text"
      },
      "source": [
        "<a href=\"https://colab.research.google.com/github/Thebestneminever/Deep-Learning-Projects/blob/main/Neural_machine_translation_using_attention.ipynb\" target=\"_parent\"><img src=\"https://colab.research.google.com/assets/colab-badge.svg\" alt=\"Open In Colab\"/></a>"
      ]
    },
    {
      "cell_type": "code",
      "metadata": {
        "id": "anREFi_eI077"
      },
      "source": [
        "import tensorflow as tf\n",
        "import matplotlib.pyplot as plt\n",
        "import matplotlib.ticker as ticker\n",
        "from sklearn.model_selection import train_test_split\n",
        "\n",
        "import unicodedata\n",
        "import re\n",
        "import numpy as np\n",
        "import os\n",
        "import io\n",
        "import time\n",
        "from nltk.translate.bleu_score import SmoothingFunction\n",
        "smoothie = SmoothingFunction().method4\n",
        "from nltk.translate.bleu_score import sentence_bleu\n",
        "\n",
        "import json\n",
        "\n",
        "from collections import defaultdict"
      ],
      "execution_count": null,
      "outputs": []
    },
    {
      "cell_type": "code",
      "metadata": {
        "id": "sHU-g7XhtzxF",
        "colab": {
          "base_uri": "https://localhost:8080/",
          "height": 35
        },
        "outputId": "08965652-e390-42ca-90d0-14ceb789f05a"
      },
      "source": [
        "\n",
        "device_name = tf.test.gpu_device_name()\n",
        "if device_name != '/device:GPU:0':\n",
        "  raise SystemError('GPU device not found')\n",
        "print('Found GPU at: {}'.format(device_name))\n"
      ],
      "execution_count": null,
      "outputs": [
        {
          "output_type": "stream",
          "text": [
            "Found GPU at: /device:GPU:0\n"
          ],
          "name": "stdout"
        }
      ]
    },
    {
      "cell_type": "code",
      "metadata": {
        "id": "ZL84WnY3LJYD",
        "colab": {
          "base_uri": "https://localhost:8080/",
          "height": 53
        },
        "outputId": "4bbdd682-940e-4416-944d-02a2eb8d5b50"
      },
      "source": [
        "# download the file\n",
        "# first we get the file from cloud\n",
        "path_to_zip = tf.keras.utils.get_file('spa-eng.zip', origin = 'http://storage.googleapis.com/download.tensorflow.org/data/spa-eng.zip',extract=True)\n",
        "# making a new file \n",
        "path_to_file = os.path.dirname(path_to_zip) + \"/spa-eng/spa.txt\""
      ],
      "execution_count": null,
      "outputs": [
        {
          "output_type": "stream",
          "text": [
            "Downloading data from http://storage.googleapis.com/download.tensorflow.org/data/spa-eng.zip\n",
            "2646016/2638744 [==============================] - 0s 0us/step\n"
          ],
          "name": "stdout"
        }
      ]
    },
    {
      "cell_type": "code",
      "metadata": {
        "id": "aJLOIb7QMIjU"
      },
      "source": [
        "# convering unicode to ascii\n",
        "def unicode_to_ascii(s):\n",
        "  return ''.join(c for c in unicodedata.normalize('NFD',s) if unicodedata.category(c) != 'Mn')\n",
        "\n"
      ],
      "execution_count": null,
      "outputs": []
    },
    {
      "cell_type": "code",
      "metadata": {
        "id": "EBCRzcMnMscn"
      },
      "source": [
        "# preprocessing the sentences\n",
        "def preprocess_sentence(w):\n",
        "  w = unicode_to_ascii(w.lower().strip()) \n",
        "  w = re.sub(r\"([?.!,¿])\",r\" \\1 \",w)\n",
        "  w = re.sub(r'[\" \"]+',\" \",w)\n",
        "  w = re.sub(r\"[^a-zA-Z?.!,¿]+\",\" \",w)\n",
        "  w = w.strip()\n",
        "  w = '<start> ' + w + ' <end>'\n",
        "  return w\n",
        "\n"
      ],
      "execution_count": null,
      "outputs": []
    },
    {
      "cell_type": "code",
      "metadata": {
        "id": "TnoBMw2KQG63",
        "colab": {
          "base_uri": "https://localhost:8080/",
          "height": 53
        },
        "outputId": "238ded18-d8db-41bf-e2b5-3722668c15fb"
      },
      "source": [
        "en_sentence = u\"May I borrow this book?\"\n",
        "sp_sentence = u\"¿Puedo tomar prestado este libro?\"\n",
        "print(preprocess_sentence(en_sentence))\n",
        "print(preprocess_sentence(sp_sentence).encode('utf-8'))\n"
      ],
      "execution_count": null,
      "outputs": [
        {
          "output_type": "stream",
          "text": [
            "<start> may i borrow this book ? <end>\n",
            "b'<start> \\xc2\\xbf puedo tomar prestado este libro ? <end>'\n"
          ],
          "name": "stdout"
        }
      ]
    },
    {
      "cell_type": "code",
      "metadata": {
        "id": "luncAFMqQTru"
      },
      "source": [
        "def create_dataset(path,num_examples):\n",
        "  lines = io.open(path,encoding='UTF-8').read().strip().split('\\n')\n",
        "  word_pairs  = [[preprocess_sentence(w) for w in l.split('\\t')] for l in lines[:num_examples]]\n",
        "  return zip(*word_pairs)"
      ],
      "execution_count": null,
      "outputs": []
    },
    {
      "cell_type": "code",
      "metadata": {
        "id": "S8tWPhk6R-wW",
        "colab": {
          "base_uri": "https://localhost:8080/",
          "height": 53
        },
        "outputId": "5c6ca595-2593-4133-a7d3-62319050b8b1"
      },
      "source": [
        "en,sp = create_dataset(path_to_file,None)\n",
        "print(en[100])\n",
        "print(sp[100])"
      ],
      "execution_count": null,
      "outputs": [
        {
          "output_type": "stream",
          "text": [
            "<start> go away ! <end>\n",
            "<start> salga de aqui ! <end>\n"
          ],
          "name": "stdout"
        }
      ]
    },
    {
      "cell_type": "code",
      "metadata": {
        "id": "tdRQTytcVfuf"
      },
      "source": [
        "def tokenize(lang):# i dont know what the hell is this ! Come back to this later\n",
        "\n",
        "  lang_tokenizer = tf.keras.preprocessing.text.Tokenizer(filters='') # create a tokenizer object\n",
        "  lang_tokenizer.fit_on_texts(lang) # tokenize the lang \n",
        "  tensor = lang_tokenizer.texts_to_sequences(lang)\n",
        "  tensor = tf.keras.preprocessing.sequence.pad_sequences(tensor,padding='post')\n",
        "  return tensor,lang_tokenizer"
      ],
      "execution_count": null,
      "outputs": []
    },
    {
      "cell_type": "code",
      "metadata": {
        "id": "AibDOaV4X5hI"
      },
      "source": [
        "def load_dataset(path,num_examples=None):\n",
        "  targ_lang, inp_lang = create_dataset(path,num_examples)\n",
        "  input_tensor, inp_lang_tokenizer = tokenize(inp_lang)\n",
        "  target_tensor, targ_lang_tokenizer = tokenize(targ_lang)\n",
        "  return input_tensor, target_tensor, inp_lang_tokenizer, targ_lang_tokenizer"
      ],
      "execution_count": null,
      "outputs": []
    },
    {
      "cell_type": "code",
      "metadata": {
        "id": "MvlGa5JyxKT9"
      },
      "source": [
        "num_examples = 50000\n",
        "input_tensor, target_tensor, inp_lang_tokenizer, targ_lang_tokenizer = load_dataset(path_to_file,num_examples)"
      ],
      "execution_count": null,
      "outputs": []
    },
    {
      "cell_type": "code",
      "metadata": {
        "id": "cSVtOTyJx70e"
      },
      "source": [
        "\n",
        "max_len_targ, max_len_inp = target_tensor.shape[1], input_tensor.shape[1]"
      ],
      "execution_count": null,
      "outputs": []
    },
    {
      "cell_type": "markdown",
      "metadata": {
        "id": "Em335cvFP-TQ"
      },
      "source": [
        "spa_word2index[\"SENTATE\"]"
      ]
    },
    {
      "cell_type": "code",
      "metadata": {
        "id": "dmaQ8bEyyWLj"
      },
      "source": [
        "input_tensor_train, input_tensor_val, target_tensor_train, target_tensor_val = train_test_split(input_tensor, target_tensor, test_size=0.2)\n"
      ],
      "execution_count": null,
      "outputs": []
    },
    {
      "cell_type": "code",
      "metadata": {
        "id": "qomB8WDMyfv5",
        "colab": {
          "base_uri": "https://localhost:8080/",
          "height": 35
        },
        "outputId": "5ef93bd5-6a8d-4ef9-802d-bb64a8181df8"
      },
      "source": [
        "\n",
        "input_tensor_train.shape"
      ],
      "execution_count": null,
      "outputs": [
        {
          "output_type": "execute_result",
          "data": {
            "text/plain": [
              "(40000, 16)"
            ]
          },
          "metadata": {
            "tags": []
          },
          "execution_count": 162
        }
      ]
    },
    {
      "cell_type": "code",
      "metadata": {
        "id": "XM-bGFR1yh_P",
        "colab": {
          "base_uri": "https://localhost:8080/",
          "height": 35
        },
        "outputId": "cef4ef9e-5785-4f05-9495-6cd42c504604"
      },
      "source": [
        "input_tensor_val.shape"
      ],
      "execution_count": null,
      "outputs": [
        {
          "output_type": "execute_result",
          "data": {
            "text/plain": [
              "(10000, 16)"
            ]
          },
          "metadata": {
            "tags": []
          },
          "execution_count": 161
        }
      ]
    },
    {
      "cell_type": "code",
      "metadata": {
        "id": "DsXRxwbM0F0W"
      },
      "source": [
        "def convert(lang_tokenizer,tensor):\n",
        "  for t in tensor:\n",
        "    if t:\n",
        "      print(f\"{t} ----> {lang_tokenizer.index_word[t]}\")\n",
        "    else:\n",
        "      print(f\"{t} ----> pad\")"
      ],
      "execution_count": null,
      "outputs": []
    },
    {
      "cell_type": "code",
      "metadata": {
        "id": "GFFbkMTX0LQ8",
        "colab": {
          "base_uri": "https://localhost:8080/",
          "height": 308
        },
        "outputId": "4f794d90-4189-4b3e-fee4-592e39221585"
      },
      "source": [
        "convert(inp_lang_tokenizer,input_tensor_train[0])"
      ],
      "execution_count": null,
      "outputs": [
        {
          "output_type": "stream",
          "text": [
            "1 ----> <start>\n",
            "2294 ----> salga\n",
            "116 ----> del\n",
            "2415 ----> automovil\n",
            "3 ----> .\n",
            "2 ----> <end>\n",
            "0 ----> pad\n",
            "0 ----> pad\n",
            "0 ----> pad\n",
            "0 ----> pad\n",
            "0 ----> pad\n",
            "0 ----> pad\n",
            "0 ----> pad\n",
            "0 ----> pad\n",
            "0 ----> pad\n",
            "0 ----> pad\n"
          ],
          "name": "stdout"
        }
      ]
    },
    {
      "cell_type": "code",
      "metadata": {
        "id": "scinpV1u1W9V",
        "colab": {
          "base_uri": "https://localhost:8080/",
          "height": 217
        },
        "outputId": "6c97a26a-434d-4200-aae9-5e05e0ca22be"
      },
      "source": [
        "convert(targ_lang_tokenizer,target_tensor_train[0])"
      ],
      "execution_count": null,
      "outputs": [
        {
          "output_type": "stream",
          "text": [
            "1 ----> <start>\n",
            "60 ----> who\n",
            "8 ----> is\n",
            "20 ----> that\n",
            "159 ----> man\n",
            "7 ----> ?\n",
            "2 ----> <end>\n",
            "0 ----> pad\n",
            "0 ----> pad\n",
            "0 ----> pad\n",
            "0 ----> pad\n"
          ],
          "name": "stdout"
        }
      ]
    },
    {
      "cell_type": "code",
      "metadata": {
        "id": "eXsYy3oD2_w1"
      },
      "source": [
        "BUFFER_SIZE = input_tensor_train.shape[0]# total number of training examples\n",
        "BATCH_SIZE = 64 # batch size\n",
        "steps_per_epoch = len(input_tensor_train)//BATCH_SIZE\n",
        "\n",
        "embedding_dim = 256 # per word\n",
        "units = 1024 # in pre-attention model\n",
        "vocab_inp_size = len(inp_lang_tokenizer.word_index) + 1 # 1 for <unk> or zero pad\n",
        "vocab_tar_size = len(targ_lang_tokenizer.word_index) + 1 # 1 for <unk> or zero pad\n"
      ],
      "execution_count": null,
      "outputs": []
    },
    {
      "cell_type": "code",
      "metadata": {
        "id": "eJwYD8g85xkV"
      },
      "source": [
        "dataset = tf.data.Dataset.from_tensor_slices((input_tensor_train,target_tensor_train)).shuffle(BUFFER_SIZE)"
      ],
      "execution_count": null,
      "outputs": []
    },
    {
      "cell_type": "code",
      "metadata": {
        "id": "8Ru_u9B86QB9"
      },
      "source": [
        "dataset = dataset.batch(BATCH_SIZE, drop_remainder=True) # drops the last examples if it dosent make a perfect batch size"
      ],
      "execution_count": null,
      "outputs": []
    },
    {
      "cell_type": "code",
      "metadata": {
        "id": "jBGatzP77Hzy"
      },
      "source": [
        "example_input_batch, example_target_batch = next(iter(dataset))"
      ],
      "execution_count": null,
      "outputs": []
    },
    {
      "cell_type": "code",
      "metadata": {
        "id": "tTm3X54I7bLI"
      },
      "source": [
        "class Encoder(tf.keras.Model):\n",
        "  def __init__(self,vocab_size, embedding_dim, enc_units):\n",
        "    super(Encoder,self).__init__()\n",
        "    self.enc_units = enc_units # the number of hidden units in the pre-attention bi-LSTM\n",
        "    self.embedding = tf.keras.layers.Embedding(input_dim=vocab_size, output_dim=embedding_dim) # this is the embedding layer \n",
        "    # for embedding  layer\n",
        "    # input shape: 2D tensor with shape: (batch_size, input_length=max length of the input sequence ).\n",
        "    #Output shape: 3D tensor with shape: (batch_size, input_length=max length of the input sequence, output_dim=embedding_dim).\n",
        "    self.lstm1 = tf.keras.layers.LSTM(self.enc_units, return_sequences=True, return_state=True,recurrent_initializer='glorot_uniform')\n",
        "    self.lstm2 = tf.keras.layers.LSTM(self.enc_units, return_sequences=True, return_state=True,recurrent_initializer='glorot_uniform')\n",
        "  \n",
        "  def call(self, input):\n",
        "    x = self.embedding(input)\n",
        "    whole_seq_output_1,final_memory_state_1, final_carry_state_1 = self.lstm1(x)\n",
        "    whole_seq_output_2,final_memory_state_2, final_carry_state_2 = self.lstm2(x)\n",
        "    whole_seq_output = tf.concat([whole_seq_output_1,whole_seq_output_2],axis=-1)\n",
        "    final_memory_state = tf.divide(tf.add(final_memory_state_1,final_memory_state_2),2)\n",
        "    return whole_seq_output,final_memory_state\n",
        "\n"
      ],
      "execution_count": null,
      "outputs": []
    },
    {
      "cell_type": "code",
      "metadata": {
        "id": "7-WOBWLDIAMx"
      },
      "source": [
        "encoder = Encoder(vocab_inp_size,embedding_dim,units) # please come back for trained embeddings"
      ],
      "execution_count": null,
      "outputs": []
    },
    {
      "cell_type": "code",
      "metadata": {
        "id": "nFWDjPzdP1r1"
      },
      "source": [
        "#sample \n",
        "sample_output,sample_hidden = encoder(example_input_batch)"
      ],
      "execution_count": null,
      "outputs": []
    },
    {
      "cell_type": "code",
      "metadata": {
        "id": "llowJlZiVYve"
      },
      "source": [
        "class BahdanuaAttentionLayer(tf.keras.layers.Layer):\n",
        "  def __init__(self, units):\n",
        "    super(BahdanuaAttentionLayer,self).__init__()\n",
        "    self.dense1 = tf.keras.layers.Dense(units)\n",
        "    self.dense2 = tf.keras.layers.Dense(units)\n",
        "    self.dense3 = tf.keras.layers.Dense(1)\n",
        "  def call(self,prev_hidden,pre_attention_values):\n",
        "    prev_hidden = tf.expand_dims(prev_hidden,1)\n",
        "    linear_p_h = self.dense1(prev_hidden)\n",
        "    linear_p_a_v = self.dense2(pre_attention_values)\n",
        "    energies = tf.nn.tanh(linear_p_h + linear_p_a_v)\n",
        "    attention_weights = tf.nn.softmax(self.dense3(energies),axis=1)\n",
        "\n",
        "    context_vector = tf.reduce_sum(pre_attention_values*attention_weights, axis=1)\n",
        "    return context_vector, attention_weights\n"
      ],
      "execution_count": null,
      "outputs": []
    },
    {
      "cell_type": "code",
      "metadata": {
        "id": "0mSJsI56-N3e"
      },
      "source": [
        "attention_layer = BahdanuaAttentionLayer(10) # global layer, for parameter sharing \n",
        "attention_result, attention_weights = attention_layer(sample_hidden,sample_output)\n"
      ],
      "execution_count": null,
      "outputs": []
    },
    {
      "cell_type": "code",
      "metadata": {
        "id": "qaUsYRsMJv3O"
      },
      "source": [
        "class Decoder(tf.keras.Model):\n",
        "  def __init__(self, target_vocab_size, dec_units, embedding_dim):\n",
        "    super(Decoder,self).__init__()\n",
        "    self.dec_units = dec_units\n",
        "    self.embedding = tf.keras.layers.Embedding(target_vocab_size,embedding_dim)\n",
        "    self.lstm  = tf.keras.layers.LSTM(self.dec_units,recurrent_initializer=\"glorot_uniform\", return_sequences=True, return_state=True)\n",
        "    self.fc = tf.keras.layers.Dense(target_vocab_size)\n",
        "    self.attention = BahdanuaAttentionLayer(412) \n",
        "  def call(self, input_to_decoder, pre_attention_values, prev_hidden,bsz=64,prev_cell=None):\n",
        "    # input_to_decoder = (batch_size, 1)\n",
        "    # prev_hidden = (batch_size, dec_units)\n",
        "    # pre_attention_values = (batch_size, inp_seq_length, enc_hidden)\n",
        "    # prev_cell = (batch_size, dec_units)\n",
        "    context_vector, attention_weights = self.attention(prev_hidden, pre_attention_values)\n",
        "    # context_vector = (batch, enc_hidden)\n",
        "    context_vector = tf.expand_dims(context_vector, axis=1)\n",
        "    # context_vector = (batch,1, enc_hidden)\n",
        "    input_to_decoder = self.embedding(input_to_decoder)\n",
        "    # input_to_decoder = (batch, 1, embedding_dim)\n",
        "    input_to_decoder_final  = tf.concat([context_vector, input_to_decoder],axis=-1)\n",
        "    # input_to_decoder_final = (batch,1 , embedding_dim + enc_hidden)\n",
        "    if prev_cell==None:\n",
        "      prev_hidden,prev_cell = tf.zeros(shape=(bsz,self.dec_units)), tf.zeros(shape=(bsz,self.dec_units))\n",
        "\n",
        "    output, state, cell = self.lstm(inputs=input_to_decoder_final, initial_state=[prev_hidden, prev_cell])\n",
        "    # output = (batch, 1, dec_units), state =  (batch , dec_units), cell = (batch, dec_units)\n",
        "    output = tf.reshape(output, shape=(-1, output.shape[2]))\n",
        "\n",
        "    y = self.fc(output) # (batch_size, target_vocab_size = basically a one hot )\n",
        "\n",
        "    return y, state, cell, attention_weights"
      ],
      "execution_count": null,
      "outputs": []
    },
    {
      "cell_type": "code",
      "metadata": {
        "id": "HfTWnjTXS8p2"
      },
      "source": [
        "decoder =  Decoder(vocab_tar_size,units,embedding_dim)"
      ],
      "execution_count": null,
      "outputs": []
    },
    {
      "cell_type": "code",
      "metadata": {
        "id": "GRdMO3INfQcA"
      },
      "source": [
        "sample_decoder_output, ss,cc,a_w = decoder(tf.random.uniform(shape=(BATCH_SIZE,1)),sample_output,sample_hidden)"
      ],
      "execution_count": null,
      "outputs": []
    },
    {
      "cell_type": "code",
      "metadata": {
        "id": "Uk_FI6xqhBwb"
      },
      "source": [
        "optimizer = tf.keras.optimizers.Adam() # adam optimizer\n",
        "loss_object = tf.keras.losses.SparseCategoricalCrossentropy(\n",
        "    from_logits=True, reduction='none') # wont avg over the batch size, \n",
        "#  real--> (batch_size,1 )\n",
        "#  pred --> (batch_size,target_vocab_size)\n",
        "\n",
        "def loss_function(real, pred): # dont take into account loss for padding i.e. 0 truth label\n",
        "  mask = tf.math.logical_not(tf.math.equal(real, 0)) # creating a mask of zeroes where the truth label is 0/where there is padding\n",
        "  loss_ = loss_object(real, pred) # calculating the loss \n",
        "\n",
        "  mask = tf.cast(mask, dtype=loss_.dtype) # casting False to 0.0\n",
        "  loss_ *= mask # neglecting the loss for padding i.e. where the truth label is 0\n",
        "\n",
        "  # this is basically because we dont care what the NMT model outputs once the \n",
        "  # <end> token has been outputted\n",
        "\n",
        "  return tf.reduce_mean(loss_) # averaging over the batch, returns a tensor of single number \n"
      ],
      "execution_count": null,
      "outputs": []
    },
    {
      "cell_type": "code",
      "metadata": {
        "id": "Z8_kv0UMs96B"
      },
      "source": [
        "checkpoint_dir = './training_checkpoints'\n",
        "checkpoint_prefix = os.path.join(checkpoint_dir, \"ckpt\")\n",
        "checkpoint = tf.train.Checkpoint(optimizer=optimizer,\n",
        "                                 encoder=encoder,\n",
        "                                 decoder=decoder)\n"
      ],
      "execution_count": null,
      "outputs": []
    },
    {
      "cell_type": "code",
      "metadata": {
        "id": "bZ4vzu9pME80"
      },
      "source": [
        "ta = tf.TensorArray(tf.int64, size=0, dynamic_size=True, clear_after_read=True,infer_shape=True)\n",
        "tav = tf.TensorArray(tf.int64, size=0, dynamic_size=True, clear_after_read=True,infer_shape=True)"
      ],
      "execution_count": null,
      "outputs": []
    },
    {
      "cell_type": "code",
      "metadata": {
        "id": "eSGwGbZmV-4D"
      },
      "source": [
        "def forward_for_accuracy(input,target):\n",
        "  global ta\n",
        "  bsz = input.shape[0]\n",
        "  pre_attention_values, prev_hidden = encoder(input) \n",
        "  decoder_input = tf.fill(dims=(input.shape[0],1),value=targ_lang_tokenizer.word_index[\"<start>\"])\n",
        "  for t in range(0, target.shape[1]):\n",
        "    if t==0:\n",
        "        prev_cell = None\n",
        "    predictions, prev_hidden, prev_cell, attention_weights = decoder(decoder_input, pre_attention_values, prev_hidden,bsz, prev_cell)\n",
        "    ta = ta.write(t,tf.reshape(tf.cast(tf.argmax(predictions,axis=-1),dtype=tf.int64),shape=(1,-1)))\n",
        "    decoder_input = tf.expand_dims(target[:,t],1)"
      ],
      "execution_count": null,
      "outputs": []
    },
    {
      "cell_type": "code",
      "metadata": {
        "id": "v67S_IKSYiZ8"
      },
      "source": [
        "def vaidation(input,target):\n",
        "  global tav\n",
        "  bsz = input.shape[0]\n",
        "  pre_attention_values, prev_hidden = encoder(input) \n",
        "  decoder_input = tf.fill(dims=(input.shape[0],1),value=targ_lang_tokenizer.word_index[\"<start>\"])\n",
        "  loss = 0\n",
        "  for t in range(0, target.shape[1]):\n",
        "    if t==0:\n",
        "        prev_cell = None\n",
        "\n",
        "    predictions, prev_hidden, prev_cell, attention_weights = decoder(decoder_input, pre_attention_values, prev_hidden,bsz, prev_cell)\n",
        "    tav = tav.write(t,tf.reshape(tf.cast(tf.argmax(predictions,axis=-1),dtype=tf.int64),shape=(1,-1)))\n",
        "    loss += loss_function(real=target[:,t],pred=predictions)\n",
        "    decoder_input = tf.expand_dims(target[:,t],1)\n",
        "  mean_batch_loss = (loss/int(target.shape[1]))\n",
        "  return mean_batch_loss\n"
      ],
      "execution_count": null,
      "outputs": []
    },
    {
      "cell_type": "code",
      "metadata": {
        "id": "9ksq4OYTxiMd"
      },
      "source": [
        "\n",
        "@tf.function # <-- important concept\n",
        "def train_step(input, target): # one step of mini-batch gradient descent \n",
        "  # input -->  (batch_size,16)\n",
        "  # target --> (batch_size, 11)\n",
        "  loss = 0\n",
        "  \n",
        "  # start tracking variables/forward prop/ computation graph/gradient tracking\n",
        "  with tf.GradientTape() as tape: \n",
        "    pre_attention_values, prev_hidden = encoder(input)\n",
        "\n",
        "\n",
        "    decoder_input = tf.fill(dims=(BATCH_SIZE,1),value=targ_lang_tokenizer.word_index[\"<start>\"])\n",
        "\n",
        "    # teacher forcing\n",
        "    for t in range(0,target.shape[1]):\n",
        "      if t==0:\n",
        "        prev_cell = None\n",
        "\n",
        "      predictions, prev_hidden, prev_cell, attention_weights = decoder(decoder_input, pre_attention_values, prev_hidden,BATCH_SIZE ,prev_cell)\n",
        "      loss += loss_function(real=target[:,t],pred=predictions)\n",
        "      decoder_input = tf.expand_dims(target[:,t],1)\n",
        "  # end of vaariable tracking/ end of computation graph/ end of forward prop/\n",
        "    \n",
        "  \n",
        "  trainable_params = encoder.trainable_variables + decoder.trainable_variables \n",
        "  # trainable_params in a list containing all the trainable parameters \n",
        "  # this is done because we need to give the loss and these trainable parameters to the \n",
        "  # tape.gradient() in order to first calculate the respective gradients of the trainable params wrt the loss \n",
        "  gradients = tape.gradient(loss,trainable_params) # compute gradients of the trainable params wrt the loss\n",
        "  optimizer.apply_gradients(zip(gradients, trainable_params)) # apply the respective gradient descent to the trainable params\n",
        "  mean_batch_loss = (loss/int(target.shape[1]))\n",
        "\n",
        "  return mean_batch_loss\n",
        "\n",
        "\n"
      ],
      "execution_count": null,
      "outputs": []
    },
    {
      "cell_type": "code",
      "metadata": {
        "id": "xuF9cZp05rR5"
      },
      "source": [
        "\n",
        "def accuracy(real,train):\n",
        "  n = real.shape[0]\n",
        "  real = tf.cast(real,tf.int64)\n",
        "  mask = tf.math.logical_not(tf.math.equal(real, 0))\n",
        "  mask = tf.cast(mask, dtype=real.dtype)\n",
        "  score = 0\n",
        "  if train:\n",
        "    pred = ta.concat()\n",
        "  else:\n",
        "    pred = tav.concat()\n",
        "  pred = tf.transpose(pred)\n",
        "  pred *= mask\n",
        "  for batch_real,batch_pred in zip(real,pred):\n",
        "    reference = [list(tf.make_ndarray(tf.make_tensor_proto(batch_real)))]\n",
        "    candidate = list(tf.make_ndarray(tf.make_tensor_proto(batch_pred)))\n",
        "    score += sentence_bleu(reference,candidate,smoothing_function=smoothie)\n",
        "  score /= n\n",
        "  return score\n",
        "    \n",
        "\n",
        "\n"
      ],
      "execution_count": null,
      "outputs": []
    },
    {
      "cell_type": "code",
      "metadata": {
        "id": "jPRHPMacDIHz",
        "colab": {
          "base_uri": "https://localhost:8080/",
          "height": 1000
        },
        "outputId": "e5f43353-a422-4df9-99b9-4478c006fc22"
      },
      "source": [
        "train_losses = []\n",
        "val_losses = []\n",
        "train_accuracy = []\n",
        "val_accuracy = []\n",
        "EPOCHS = 10\n",
        "for epoch in range(1,EPOCHS+1):\n",
        "  avg_loss_per_epoch= 0 # average loss in this epoch\n",
        "  avg_accuracy_per_epoch = 0\n",
        "  # for mini batches in one epoch\n",
        "  for (batch,(input,target)) in enumerate(dataset.take(steps_per_epoch)):\n",
        "    forward_for_accuracy(input,target)\n",
        "    mean_batch_accuracy = accuracy(target,train=True)\n",
        "    mean_batch_loss = train_step(input,target)\n",
        "    avg_loss_per_epoch += mean_batch_loss/steps_per_epoch\n",
        "    avg_accuracy_per_epoch += mean_batch_accuracy/steps_per_epoch\n",
        "    if batch%100 == 0: # every 100 batch\n",
        "      print(f\"Train --> Epoch: {epoch} ---> Batch: {batch} -->  Batch Loss = {mean_batch_loss}\")\n",
        "      print(f\"Train --> Epoch: {epoch} ---> Batch: {batch} -->  Batch Accuracy = {mean_batch_accuracy}\")\n",
        "  train_losses.append(avg_loss_per_epoch)\n",
        "  train_accuracy.append(avg_accuracy_per_epoch)\n",
        "  # saving (checkpoint) the model every 2 epochs\n",
        "  if (epoch) % 2 == 0:\n",
        "    checkpoint.save(file_prefix = checkpoint_prefix)\n",
        "  print(f\"Train --> Epoch: {epoch} ---> Loss: {avg_loss_per_epoch}\")\n",
        "  # print('Time taken for 1 epoch {} sec'.format(time.time() - start))\n",
        "\n",
        "  ##### for validation  ########\n",
        "  val_loss = vaidation(input_tensor_val,target_tensor_val)\n",
        "  val_accuracy_ = accuracy(target_tensor_val,train=False)\n",
        "  print(f\"Valid --> Epoch: {epoch} ---> Loss = {val_loss}\")\n",
        "  print(f\"Valid --> Epoch: {epoch} ---> Accuracy = {val_accuracy_}\")\n",
        "  val_losses.append(val_loss)\n",
        "  val_accuracy.append(val_accuracy_)\n",
        "\n",
        "\n"
      ],
      "execution_count": null,
      "outputs": [
        {
          "output_type": "stream",
          "text": [
            "Train --> Epoch: 1 ---> Batch: 0 -->  Batch Loss = 5.585842132568359\n",
            "Train --> Epoch: 1 ---> Batch: 0 -->  Batch Accuracy = 0.2720359851512317\n",
            "Train --> Epoch: 1 ---> Batch: 100 -->  Batch Loss = 2.329111099243164\n",
            "Train --> Epoch: 1 ---> Batch: 100 -->  Batch Accuracy = 0.4599726649494751\n",
            "Train --> Epoch: 1 ---> Batch: 200 -->  Batch Loss = 2.0109663009643555\n",
            "Train --> Epoch: 1 ---> Batch: 200 -->  Batch Accuracy = 0.4890694339750601\n",
            "Train --> Epoch: 1 ---> Batch: 300 -->  Batch Loss = 1.9437479972839355\n",
            "Train --> Epoch: 1 ---> Batch: 300 -->  Batch Accuracy = 0.5160651629636993\n",
            "Train --> Epoch: 1 ---> Batch: 400 -->  Batch Loss = 1.8637337684631348\n",
            "Train --> Epoch: 1 ---> Batch: 400 -->  Batch Accuracy = 0.4910239469996087\n",
            "Train --> Epoch: 1 ---> Batch: 500 -->  Batch Loss = 1.7520837783813477\n",
            "Train --> Epoch: 1 ---> Batch: 500 -->  Batch Accuracy = 0.4881413024945414\n",
            "Train --> Epoch: 1 ---> Batch: 600 -->  Batch Loss = 1.7819044589996338\n",
            "Train --> Epoch: 1 ---> Batch: 600 -->  Batch Accuracy = 0.48007749814474676\n",
            "Train --> Epoch: 1 ---> Loss: 1.9810771942138672\n",
            "Valid --> Epoch: 1 ---> Loss = 1.5762311220169067\n",
            "Valid --> Epoch: 1 ---> Accuracy = 0.5226405712038183\n",
            "Train --> Epoch: 2 ---> Batch: 0 -->  Batch Loss = 1.503827452659607\n",
            "Train --> Epoch: 2 ---> Batch: 0 -->  Batch Accuracy = 0.5543732709304783\n",
            "Train --> Epoch: 2 ---> Batch: 100 -->  Batch Loss = 1.526713252067566\n",
            "Train --> Epoch: 2 ---> Batch: 100 -->  Batch Accuracy = 0.5126649390457162\n",
            "Train --> Epoch: 2 ---> Batch: 200 -->  Batch Loss = 1.388810396194458\n",
            "Train --> Epoch: 2 ---> Batch: 200 -->  Batch Accuracy = 0.5197779761531847\n",
            "Train --> Epoch: 2 ---> Batch: 300 -->  Batch Loss = 1.2994134426116943\n",
            "Train --> Epoch: 2 ---> Batch: 300 -->  Batch Accuracy = 0.5519742121779153\n",
            "Train --> Epoch: 2 ---> Batch: 400 -->  Batch Loss = 1.1537507772445679\n",
            "Train --> Epoch: 2 ---> Batch: 400 -->  Batch Accuracy = 0.571110421658655\n",
            "Train --> Epoch: 2 ---> Batch: 500 -->  Batch Loss = 1.1372737884521484\n",
            "Train --> Epoch: 2 ---> Batch: 500 -->  Batch Accuracy = 0.5912537658921061\n",
            "Train --> Epoch: 2 ---> Batch: 600 -->  Batch Loss = 1.2647278308868408\n",
            "Train --> Epoch: 2 ---> Batch: 600 -->  Batch Accuracy = 0.5652129741252622\n",
            "Train --> Epoch: 2 ---> Loss: 1.3344789743423462\n",
            "Valid --> Epoch: 2 ---> Loss = 1.2297935485839844\n",
            "Valid --> Epoch: 2 ---> Accuracy = 0.5714339754628255\n",
            "Train --> Epoch: 3 ---> Batch: 0 -->  Batch Loss = 1.0509016513824463\n",
            "Train --> Epoch: 3 ---> Batch: 0 -->  Batch Accuracy = 0.5845252045062623\n",
            "Train --> Epoch: 3 ---> Batch: 100 -->  Batch Loss = 1.0084633827209473\n",
            "Train --> Epoch: 3 ---> Batch: 100 -->  Batch Accuracy = 0.5961491231198941\n",
            "Train --> Epoch: 3 ---> Batch: 200 -->  Batch Loss = 0.8796002268791199\n",
            "Train --> Epoch: 3 ---> Batch: 200 -->  Batch Accuracy = 0.6235263347636814\n",
            "Train --> Epoch: 3 ---> Batch: 300 -->  Batch Loss = 0.8957439661026001\n",
            "Train --> Epoch: 3 ---> Batch: 300 -->  Batch Accuracy = 0.6299212521457829\n",
            "Train --> Epoch: 3 ---> Batch: 400 -->  Batch Loss = 1.0540244579315186\n",
            "Train --> Epoch: 3 ---> Batch: 400 -->  Batch Accuracy = 0.5964517481310073\n",
            "Train --> Epoch: 3 ---> Batch: 500 -->  Batch Loss = 0.8194600939750671\n",
            "Train --> Epoch: 3 ---> Batch: 500 -->  Batch Accuracy = 0.6318033914506758\n",
            "Train --> Epoch: 3 ---> Batch: 600 -->  Batch Loss = 0.9001049995422363\n",
            "Train --> Epoch: 3 ---> Batch: 600 -->  Batch Accuracy = 0.6382175157182353\n",
            "Train --> Epoch: 3 ---> Loss: 0.9602493643760681\n",
            "Valid --> Epoch: 3 ---> Loss = 0.9913349747657776\n",
            "Valid --> Epoch: 3 ---> Accuracy = 0.6242230954447346\n",
            "Train --> Epoch: 4 ---> Batch: 0 -->  Batch Loss = 0.7302200198173523\n",
            "Train --> Epoch: 4 ---> Batch: 0 -->  Batch Accuracy = 0.6669192758981942\n",
            "Train --> Epoch: 4 ---> Batch: 100 -->  Batch Loss = 0.7400011420249939\n",
            "Train --> Epoch: 4 ---> Batch: 100 -->  Batch Accuracy = 0.636944993260244\n",
            "Train --> Epoch: 4 ---> Batch: 200 -->  Batch Loss = 0.776100754737854\n",
            "Train --> Epoch: 4 ---> Batch: 200 -->  Batch Accuracy = 0.6561244907459424\n",
            "Train --> Epoch: 4 ---> Batch: 300 -->  Batch Loss = 0.6775173544883728\n",
            "Train --> Epoch: 4 ---> Batch: 300 -->  Batch Accuracy = 0.7043929777396248\n",
            "Train --> Epoch: 4 ---> Batch: 400 -->  Batch Loss = 0.5776874423027039\n",
            "Train --> Epoch: 4 ---> Batch: 400 -->  Batch Accuracy = 0.7140362259163151\n",
            "Train --> Epoch: 4 ---> Batch: 500 -->  Batch Loss = 0.6428130865097046\n",
            "Train --> Epoch: 4 ---> Batch: 500 -->  Batch Accuracy = 0.6998314528380318\n",
            "Train --> Epoch: 4 ---> Batch: 600 -->  Batch Loss = 0.6219514012336731\n",
            "Train --> Epoch: 4 ---> Batch: 600 -->  Batch Accuracy = 0.7103577613698544\n",
            "Train --> Epoch: 4 ---> Loss: 0.6607154607772827\n",
            "Valid --> Epoch: 4 ---> Loss = 0.8335311412811279\n",
            "Valid --> Epoch: 4 ---> Accuracy = 0.6747782732499653\n",
            "Train --> Epoch: 5 ---> Batch: 0 -->  Batch Loss = 0.44200319051742554\n",
            "Train --> Epoch: 5 ---> Batch: 0 -->  Batch Accuracy = 0.737415578631813\n",
            "Train --> Epoch: 5 ---> Batch: 100 -->  Batch Loss = 0.37985095381736755\n",
            "Train --> Epoch: 5 ---> Batch: 100 -->  Batch Accuracy = 0.7758441980234388\n",
            "Train --> Epoch: 5 ---> Batch: 200 -->  Batch Loss = 0.37918221950531006\n",
            "Train --> Epoch: 5 ---> Batch: 200 -->  Batch Accuracy = 0.781911034402938\n",
            "Train --> Epoch: 5 ---> Batch: 300 -->  Batch Loss = 0.41727468371391296\n",
            "Train --> Epoch: 5 ---> Batch: 300 -->  Batch Accuracy = 0.734583825365611\n",
            "Train --> Epoch: 5 ---> Batch: 400 -->  Batch Loss = 0.39670419692993164\n",
            "Train --> Epoch: 5 ---> Batch: 400 -->  Batch Accuracy = 0.7587457518891986\n",
            "Train --> Epoch: 5 ---> Batch: 500 -->  Batch Loss = 0.38816195726394653\n",
            "Train --> Epoch: 5 ---> Batch: 500 -->  Batch Accuracy = 0.770056288962268\n",
            "Train --> Epoch: 5 ---> Batch: 600 -->  Batch Loss = 0.48000144958496094\n",
            "Train --> Epoch: 5 ---> Batch: 600 -->  Batch Accuracy = 0.7457542012338172\n",
            "Train --> Epoch: 5 ---> Loss: 0.43991121649742126\n",
            "Valid --> Epoch: 5 ---> Loss = 0.762232780456543\n",
            "Valid --> Epoch: 5 ---> Accuracy = 0.7038099299028474\n",
            "Train --> Epoch: 6 ---> Batch: 0 -->  Batch Loss = 0.29802125692367554\n",
            "Train --> Epoch: 6 ---> Batch: 0 -->  Batch Accuracy = 0.8255868320786048\n",
            "Train --> Epoch: 6 ---> Batch: 100 -->  Batch Loss = 0.26041966676712036\n",
            "Train --> Epoch: 6 ---> Batch: 100 -->  Batch Accuracy = 0.8290078734755806\n",
            "Train --> Epoch: 6 ---> Batch: 200 -->  Batch Loss = 0.25862881541252136\n",
            "Train --> Epoch: 6 ---> Batch: 200 -->  Batch Accuracy = 0.8265743486053602\n",
            "Train --> Epoch: 6 ---> Batch: 300 -->  Batch Loss = 0.313473641872406\n",
            "Train --> Epoch: 6 ---> Batch: 300 -->  Batch Accuracy = 0.8109446544389287\n",
            "Train --> Epoch: 6 ---> Batch: 400 -->  Batch Loss = 0.3079531192779541\n",
            "Train --> Epoch: 6 ---> Batch: 400 -->  Batch Accuracy = 0.8113537068185496\n",
            "Train --> Epoch: 6 ---> Batch: 500 -->  Batch Loss = 0.2540645897388458\n",
            "Train --> Epoch: 6 ---> Batch: 500 -->  Batch Accuracy = 0.8563891114945916\n",
            "Train --> Epoch: 6 ---> Batch: 600 -->  Batch Loss = 0.3386499881744385\n",
            "Train --> Epoch: 6 ---> Batch: 600 -->  Batch Accuracy = 0.8366840565529823\n",
            "Train --> Epoch: 6 ---> Loss: 0.28918230533599854\n",
            "Valid --> Epoch: 6 ---> Loss = 0.7279731631278992\n",
            "Valid --> Epoch: 6 ---> Accuracy = 0.7216508261637542\n",
            "Train --> Epoch: 7 ---> Batch: 0 -->  Batch Loss = 0.15798687934875488\n",
            "Train --> Epoch: 7 ---> Batch: 0 -->  Batch Accuracy = 0.8846178174232314\n",
            "Train --> Epoch: 7 ---> Batch: 100 -->  Batch Loss = 0.1633281707763672\n",
            "Train --> Epoch: 7 ---> Batch: 100 -->  Batch Accuracy = 0.9126253033496986\n",
            "Train --> Epoch: 7 ---> Batch: 200 -->  Batch Loss = 0.20556902885437012\n",
            "Train --> Epoch: 7 ---> Batch: 200 -->  Batch Accuracy = 0.8826462311247212\n",
            "Train --> Epoch: 7 ---> Batch: 300 -->  Batch Loss = 0.18056248128414154\n",
            "Train --> Epoch: 7 ---> Batch: 300 -->  Batch Accuracy = 0.8689921248009623\n",
            "Train --> Epoch: 7 ---> Batch: 400 -->  Batch Loss = 0.2069741189479828\n",
            "Train --> Epoch: 7 ---> Batch: 400 -->  Batch Accuracy = 0.8687140326123315\n",
            "Train --> Epoch: 7 ---> Batch: 500 -->  Batch Loss = 0.25292664766311646\n",
            "Train --> Epoch: 7 ---> Batch: 500 -->  Batch Accuracy = 0.8414054016413358\n",
            "Train --> Epoch: 7 ---> Batch: 600 -->  Batch Loss = 0.2014477550983429\n",
            "Train --> Epoch: 7 ---> Batch: 600 -->  Batch Accuracy = 0.8526346640548069\n",
            "Train --> Epoch: 7 ---> Loss: 0.19339539110660553\n",
            "Valid --> Epoch: 7 ---> Loss = 0.7195656895637512\n",
            "Valid --> Epoch: 7 ---> Accuracy = 0.7321098310612417\n",
            "Train --> Epoch: 8 ---> Batch: 0 -->  Batch Loss = 0.1383601725101471\n",
            "Train --> Epoch: 8 ---> Batch: 0 -->  Batch Accuracy = 0.9183917366305326\n",
            "Train --> Epoch: 8 ---> Batch: 100 -->  Batch Loss = 0.11024689674377441\n",
            "Train --> Epoch: 8 ---> Batch: 100 -->  Batch Accuracy = 0.9472166521514797\n",
            "Train --> Epoch: 8 ---> Batch: 200 -->  Batch Loss = 0.11913751810789108\n",
            "Train --> Epoch: 8 ---> Batch: 200 -->  Batch Accuracy = 0.9156554787623752\n",
            "Train --> Epoch: 8 ---> Batch: 300 -->  Batch Loss = 0.11582814157009125\n",
            "Train --> Epoch: 8 ---> Batch: 300 -->  Batch Accuracy = 0.9326463746828775\n",
            "Train --> Epoch: 8 ---> Batch: 400 -->  Batch Loss = 0.1491401493549347\n",
            "Train --> Epoch: 8 ---> Batch: 400 -->  Batch Accuracy = 0.9112803837040321\n",
            "Train --> Epoch: 8 ---> Batch: 500 -->  Batch Loss = 0.20349359512329102\n",
            "Train --> Epoch: 8 ---> Batch: 500 -->  Batch Accuracy = 0.8668291970117417\n",
            "Train --> Epoch: 8 ---> Batch: 600 -->  Batch Loss = 0.15536265075206757\n",
            "Train --> Epoch: 8 ---> Batch: 600 -->  Batch Accuracy = 0.8834811044076752\n",
            "Train --> Epoch: 8 ---> Loss: 0.1317472606897354\n",
            "Valid --> Epoch: 8 ---> Loss = 0.7242987155914307\n",
            "Valid --> Epoch: 8 ---> Accuracy = 0.7344195166378432\n",
            "Train --> Epoch: 9 ---> Batch: 0 -->  Batch Loss = 0.07474688440561295\n",
            "Train --> Epoch: 9 ---> Batch: 0 -->  Batch Accuracy = 0.9648054296215258\n",
            "Train --> Epoch: 9 ---> Batch: 100 -->  Batch Loss = 0.07865524291992188\n",
            "Train --> Epoch: 9 ---> Batch: 100 -->  Batch Accuracy = 0.9539403493764216\n",
            "Train --> Epoch: 9 ---> Batch: 200 -->  Batch Loss = 0.10129698365926743\n",
            "Train --> Epoch: 9 ---> Batch: 200 -->  Batch Accuracy = 0.9328575373766547\n",
            "Train --> Epoch: 9 ---> Batch: 300 -->  Batch Loss = 0.09827899932861328\n",
            "Train --> Epoch: 9 ---> Batch: 300 -->  Batch Accuracy = 0.9308652007733201\n",
            "Train --> Epoch: 9 ---> Batch: 400 -->  Batch Loss = 0.09521233290433884\n",
            "Train --> Epoch: 9 ---> Batch: 400 -->  Batch Accuracy = 0.9433833344625456\n",
            "Train --> Epoch: 9 ---> Batch: 500 -->  Batch Loss = 0.1009553000330925\n",
            "Train --> Epoch: 9 ---> Batch: 500 -->  Batch Accuracy = 0.9450218256368327\n",
            "Train --> Epoch: 9 ---> Batch: 600 -->  Batch Loss = 0.1378471702337265\n",
            "Train --> Epoch: 9 ---> Batch: 600 -->  Batch Accuracy = 0.8981047092744993\n",
            "Train --> Epoch: 9 ---> Loss: 0.09647443145513535\n",
            "Valid --> Epoch: 9 ---> Loss = 0.7332165837287903\n",
            "Valid --> Epoch: 9 ---> Accuracy = 0.7382952997721443\n",
            "Train --> Epoch: 10 ---> Batch: 0 -->  Batch Loss = 0.07345505058765411\n",
            "Train --> Epoch: 10 ---> Batch: 0 -->  Batch Accuracy = 0.9652522519191606\n",
            "Train --> Epoch: 10 ---> Batch: 100 -->  Batch Loss = 0.07869213074445724\n",
            "Train --> Epoch: 10 ---> Batch: 100 -->  Batch Accuracy = 0.9517317597438882\n",
            "Train --> Epoch: 10 ---> Batch: 200 -->  Batch Loss = 0.0672207623720169\n",
            "Train --> Epoch: 10 ---> Batch: 200 -->  Batch Accuracy = 0.958543191490375\n",
            "Train --> Epoch: 10 ---> Batch: 300 -->  Batch Loss = 0.07324302941560745\n",
            "Train --> Epoch: 10 ---> Batch: 300 -->  Batch Accuracy = 0.94880468388819\n",
            "Train --> Epoch: 10 ---> Batch: 400 -->  Batch Loss = 0.06119052320718765\n",
            "Train --> Epoch: 10 ---> Batch: 400 -->  Batch Accuracy = 0.9641977143583229\n",
            "Train --> Epoch: 10 ---> Batch: 500 -->  Batch Loss = 0.0967014729976654\n",
            "Train --> Epoch: 10 ---> Batch: 500 -->  Batch Accuracy = 0.9407584642279064\n",
            "Train --> Epoch: 10 ---> Batch: 600 -->  Batch Loss = 0.07841655611991882\n",
            "Train --> Epoch: 10 ---> Batch: 600 -->  Batch Accuracy = 0.947620409813914\n",
            "Train --> Epoch: 10 ---> Loss: 0.07468299567699432\n",
            "Valid --> Epoch: 10 ---> Loss = 0.7506056427955627\n",
            "Valid --> Epoch: 10 ---> Accuracy = 0.7365449263249301\n"
          ],
          "name": "stdout"
        }
      ]
    },
    {
      "cell_type": "code",
      "metadata": {
        "id": "znKDU5Dyszim",
        "colab": {
          "base_uri": "https://localhost:8080/",
          "height": 513
        },
        "outputId": "92bab756-cd1b-4b1a-b8f9-b02a6b3b1166"
      },
      "source": [
        "with plt.style.context('seaborn-pastel'):\n",
        "  plt.figure(figsize=(10,8))\n",
        "  plt.plot(np.arange(10),train_losses,'-o',label=\"Train Loss\",linewidth=3,color='red',alpha=0.5)\n",
        "  plt.plot(np.arange(10),val_losses,'-o',label=\"Val Loss\",linewidth=3,color='blue',alpha=0.5)\n",
        "  plt.grid(True)\n",
        "  plt.legend()\n",
        "  plt.title(\"Loss\")\n",
        "  plt.xlabel(\"Epochs\")\n",
        "  plt.ylabel(\"Cross Entopy Loss\")\n",
        "  plt.fill_between(np.arange(10), train_losses,val_losses,color='skyblue',alpha=0.3)\n",
        "  plt.show()\n"
      ],
      "execution_count": null,
      "outputs": [
        {
          "output_type": "display_data",
          "data": {
            "image/png": "[encoded data removed]",
            "text/plain": [
              "<Figure size 720x576 with 1 Axes>"
            ]
          },
          "metadata": {
            "tags": [],
            "needs_background": "light"
          }
        }
      ]
    },
    {
      "cell_type": "code",
      "metadata": {
        "id": "8eW5tZFboe5p",
        "colab": {
          "base_uri": "https://localhost:8080/",
          "height": 513
        },
        "outputId": "8c060662-80db-4772-cda8-825c39516b7a"
      },
      "source": [
        "with plt.style.context('seaborn-pastel'):\n",
        "  plt.figure(figsize=(10,8))\n",
        "  plt.plot(np.arange(10),train_accuracy,'-o',label=\"Train Acc\",linewidth=3,color='magenta',alpha=0.5)\n",
        "  plt.plot(np.arange(10),val_accuracy,'-o',label=\"Val Acc\",linewidth=3,color='green',alpha=0.5)\n",
        "  plt.grid(True)\n",
        "  plt.legend()\n",
        "  plt.title(\"Accuracy\")\n",
        "  plt.xlabel(\"Epochs\")\n",
        "  plt.ylabel(\"Bleu Score\")\n",
        "  plt.fill_between(np.arange(10), train_accuracy,val_accuracy,color='lightgreen',alpha=0.3)\n",
        "  plt.show()\n"
      ],
      "execution_count": null,
      "outputs": [
        {
          "output_type": "display_data",
          "data": {
            "image/png": "[encoded data removed]",
            "text/plain": [
              "<Figure size 720x576 with 1 Axes>"
            ]
          },
          "metadata": {
            "tags": [],
            "needs_background": "light"
          }
        }
      ]
    },
    {
      "cell_type": "code",
      "metadata": {
        "id": "yRqmFEOn2PJ4"
      },
      "source": [
        "def evaluate(spanish):\n",
        "  attention_plot = np.zeros((max_len_targ,max_len_inp)) # for the attention plot\n",
        "  sentence = preprocess_sentence(spanish) # preprocessing the spanish sentence\n",
        "  inputs = [inp_lang_tokenizer.word_index[i] for i in sentence.split()] # converting words into tokens/numbers\n",
        "  inputs = tf.keras.preprocessing.sequence.pad_sequences([inputs], # zero padding the input \n",
        "                                                         maxlen=max_len_inp,\n",
        "                                                         padding='post')\n",
        "  # input is a list so we need to coonvert it into a tensor\n",
        "  inputs = tf.reshape(tf.convert_to_tensor(value=inputs),shape=(1,-1)) # now input is a (max_len_input,) tensor  \n",
        "\n",
        "  result = ''\n",
        "  pre_attention_vals, prev_hidden = encoder(inputs)\n",
        "  dec_input = tf.fill(dims=(1,1),value=targ_lang_tokenizer.word_index[\"<start>\"])\n",
        "\n",
        "  # using the greedy method, this is not the right way, please use beam search instead\n",
        "  for t in range(max_len_targ):\n",
        "    if t==0:\n",
        "        prev_cell = None\n",
        "    predictions, prev_hidden, prev_cell, attention_weights = decoder(dec_input, pre_attention_vals, prev_hidden,1, prev_cell)\n",
        "\n",
        "    attention_plot[t,:] = (attention_weights).numpy().reshape(1,-1)\n",
        "    pred_token = tf.reduce_sum(tf.argmax(predictions,axis=-1)).numpy()\n",
        "    result += targ_lang_tokenizer.index_word[pred_token] + ' '\n",
        "    if targ_lang_tokenizer.index_word[pred_token] == \"<end>\":\n",
        "      return result.rstrip(), sentence, attention_plot\n",
        "    dec_input = tf.fill(dims=(1,1),value=pred_token)\n",
        "  return result.rstrip(), sentence, attention_plot\n",
        "\n"
      ],
      "execution_count": null,
      "outputs": []
    },
    {
      "cell_type": "code",
      "metadata": {
        "id": "6D9p2GS32P_E"
      },
      "source": [
        "def plot_attention(attention, sentence, predicted_sentence):\n",
        "  fig = plt.figure(figsize=(10,10))\n",
        "  ax = fig.add_subplot(1, 1, 1)\n",
        "  ax.matshow(attention, cmap='gray')\n",
        "\n",
        "  fontdict = {'fontsize': 14}\n",
        "\n",
        "  ax.set_xticklabels([''] + sentence, fontdict=fontdict, rotation=90)\n",
        "  ax.set_yticklabels([''] + predicted_sentence, fontdict=fontdict)\n",
        "\n",
        "  ax.xaxis.set_major_locator(ticker.MultipleLocator(1))\n",
        "  ax.yaxis.set_major_locator(ticker.MultipleLocator(1))\n",
        "\n",
        "  plt.show()\n"
      ],
      "execution_count": null,
      "outputs": []
    },
    {
      "cell_type": "code",
      "metadata": {
        "id": "z0r0BqcS4Kvf"
      },
      "source": [
        "def translate(spanish):\n",
        "  result, sentence, attention_plot = evaluate(spanish)\n",
        "\n",
        "  print('Input: %s' % (sentence))\n",
        "  print('Predicted translation: {}'.format(result))\n",
        "\n",
        "  attention_plot = attention_plot[:len(result.split(' ')), :len(sentence.split(' '))]\n",
        "  plot_attention(attention_plot, sentence.split(' '), result.split(' '))\n"
      ],
      "execution_count": null,
      "outputs": []
    },
    {
      "cell_type": "code",
      "metadata": {
        "id": "DHdripe_4e9v",
        "colab": {
          "base_uri": "https://localhost:8080/",
          "height": 35
        },
        "outputId": "4640a2b8-e946-4f00-b8d7-d958e6dd52a0"
      },
      "source": [
        "checkpoint.restore(tf.train.latest_checkpoint(checkpoint_dir))\n"
      ],
      "execution_count": null,
      "outputs": [
        {
          "output_type": "execute_result",
          "data": {
            "text/plain": [
              "<tensorflow.python.training.tracking.util.CheckpointLoadStatus at 0x7f697d1d9e48>"
            ]
          },
          "metadata": {
            "tags": []
          },
          "execution_count": 135
        }
      ]
    },
    {
      "cell_type": "code",
      "metadata": {
        "id": "xK8pCYM64jJx",
        "colab": {
          "base_uri": "https://localhost:8080/",
          "height": 677
        },
        "outputId": "8aa387f4-1944-4f3f-8e0b-fe3dedf2e8d0"
      },
      "source": [
        "translate(u'todavía están en casa ?')\n"
      ],
      "execution_count": null,
      "outputs": [
        {
          "output_type": "stream",
          "text": [
            "Input: <start> todavia estan en casa ? <end>\n",
            "Predicted translation: <start> are you still at home ? <end>\n"
          ],
          "name": "stdout"
        },
        {
          "output_type": "display_data",
          "data": {
            "image/png": "[encoded data removed]",
            "text/plain": [
              "<Figure size 720x720 with 1 Axes>"
            ]
          },
          "metadata": {
            "tags": [],
            "needs_background": "light"
          }
        }
      ]
    }
  ]
}